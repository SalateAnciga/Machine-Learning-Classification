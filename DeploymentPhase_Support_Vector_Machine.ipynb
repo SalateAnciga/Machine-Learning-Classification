{
 "cells": [
  {
   "cell_type": "code",
   "execution_count": 3,
   "id": "089b6c5b-51fd-43b9-9d31-dc1ebf05b679",
   "metadata": {},
   "outputs": [
    {
     "name": "stdout",
     "output_type": "stream",
     "text": [
      "[0]\n"
     ]
    }
   ],
   "source": [
    "import pickle\n",
    "loaded_model=pickle.load(open(\"Finalized_Model_Support_Vector_Machine.sav\",'rb'))\n",
    "best_model = loaded_model.best_estimator_\n",
    "input_data=[[34,126,1.0,0.0,148.22,22.0,3.0778,138.25,4.623,12.678,38.29,8404.125,4.70559,0,1,1,0,1,0,0,1,0,1,1,1,1,1]]\n",
    "result = best_model.predict(input_data)\n",
    "print(result)\n"
   ]
  },
  {
   "cell_type": "code",
   "execution_count": null,
   "id": "f7d39d77-9ba8-4575-b72d-3ab554bfcf56",
   "metadata": {},
   "outputs": [],
   "source": []
  }
 ],
 "metadata": {
  "kernelspec": {
   "display_name": "Python 3 (ipykernel)",
   "language": "python",
   "name": "python3"
  },
  "language_info": {
   "codemirror_mode": {
    "name": "ipython",
    "version": 3
   },
   "file_extension": ".py",
   "mimetype": "text/x-python",
   "name": "python",
   "nbconvert_exporter": "python",
   "pygments_lexer": "ipython3",
   "version": "3.12.4"
  }
 },
 "nbformat": 4,
 "nbformat_minor": 5
}
