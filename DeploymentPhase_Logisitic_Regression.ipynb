{
 "cells": [
  {
   "cell_type": "code",
   "execution_count": 1,
   "id": "6a40c108-bfd9-433f-94f8-d9078f42c280",
   "metadata": {},
   "outputs": [
    {
     "name": "stdout",
     "output_type": "stream",
     "text": [
      "[1]\n"
     ]
    }
   ],
   "source": [
    "import pickle\n",
    "loaded_model=pickle.load(open(\"Finalized_Model_Logistic_Regression.sav\",'rb'))\n",
    "best_model = loaded_model.best_estimator_\n",
    "input_data=[[34,126,1.0,0.0,148.22,22.0,3.0778,138.25,4.623,12.678,38.29,8404.125,4.70559,0,1,1,0,1,0,0,1,0,1,1,1,1,1]]\n",
    "result = best_model.predict(input_data)\n",
    "print(result)\n"
   ]
  },
  {
   "cell_type": "code",
   "execution_count": null,
   "id": "391b806e-8054-4053-b55c-c78e850e2871",
   "metadata": {},
   "outputs": [],
   "source": []
  }
 ],
 "metadata": {
  "kernelspec": {
   "display_name": "Python 3 (ipykernel)",
   "language": "python",
   "name": "python3"
  },
  "language_info": {
   "codemirror_mode": {
    "name": "ipython",
    "version": 3
   },
   "file_extension": ".py",
   "mimetype": "text/x-python",
   "name": "python",
   "nbconvert_exporter": "python",
   "pygments_lexer": "ipython3",
   "version": "3.12.4"
  }
 },
 "nbformat": 4,
 "nbformat_minor": 5
}
